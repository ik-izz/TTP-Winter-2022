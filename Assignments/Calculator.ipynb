{
  "nbformat": 4,
  "nbformat_minor": 0,
  "metadata": {
    "colab": {
      "name": "Calculator.ipynb",
      "provenance": []
    },
    "kernelspec": {
      "name": "python3",
      "display_name": "Python 3"
    },
    "language_info": {
      "name": "python"
    }
  },
  "cells": [
    {
      "cell_type": "code",
      "execution_count": null,
      "metadata": {
        "colab": {
          "base_uri": "https://localhost:8080/"
        },
        "id": "eqtlV05OrmFa",
        "outputId": "2a30400f-3b77-46a8-820c-df77fa45da9d"
      },
      "outputs": [
        {
          "output_type": "stream",
          "name": "stdout",
          "text": [
            "Enter your first Value: 50 \n",
            "Enter you seconds value:75\n",
            "Do you want to add, subtract, divide or multiply: multiply\n",
            "multiplying 50 from 75 =  3750\n"
          ]
        }
      ],
      "source": [
        "value1 = int(input('Enter your first Value: '))\n",
        "# ^ Gets first value from user and converts if to type integer\n",
        "\n",
        "value2 = int(input('Enter you seconds value:'))\n",
        "# ^ Gets second value from user and converts if to type integer\n",
        "\n",
        "operation = input('Do you want to add, subtract, divide or multiply: ')\n",
        "# ^ asks the user the type of operation they want to complete\n",
        "\n",
        "if operation == 'add':\n",
        "  # ^ checks if user input is equal to add\n",
        "  print('adding ', value1, 'and ', value2, '= ', value1 + value2)\n",
        " # ^ excutes addition if it's true\n",
        "\n",
        "elif operation == 'subtract':\n",
        "  # ^ checks if user input is equal to subtract\n",
        "  print('subtracting', value1, 'from', value2, '= ', value1 - value2)\n",
        "# ^ excutes subtraction if it's true\n",
        "\n",
        "elif operation == 'divide':\n",
        "  # ^ checks if user input is equal to divide\n",
        "  print('dividing ', value1, 'by ', value2, '= ', value1 / value2)\n",
        "# ^ excutes division if it's true\n",
        "\n",
        "elif operation == 'multiply':\n",
        "  # ^ checks if user input is equal to multiply\n",
        "  print('multiplying', value1, 'from', value2, '= ', value1 * value2)\n",
        "  # ^ excutes multiplication n if it's true\n",
        "\n",
        "else:\n",
        "  print(\"Invalid entry\")"
      ]
    }
  ]
}